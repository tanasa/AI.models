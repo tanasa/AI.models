{
 "cells": [
  {
   "cell_type": "code",
   "execution_count": 1,
   "id": "c4c0ef09-6974-4213-abac-c70beb5439fe",
   "metadata": {},
   "outputs": [],
   "source": [
    "# https://github.com/RileyLazarou/pytorch-generative-models/blob/master/GAN/vanilla_GAN/vanilla_GAN.py\n",
    "# https://towardsdatascience.com/pytorch-and-gans-a-micro-tutorial-804855817a6b\n",
    "# https://github.com/yunjey/pytorch-tutorial/blob/master/tutorials/03-advanced/generative_adversarial_network/"
   ]
  },
  {
   "cell_type": "code",
   "execution_count": 2,
   "id": "b64d54f6-eada-456f-b614-162821470ceb",
   "metadata": {},
   "outputs": [
    {
     "data": {
      "text/plain": [
       "<torch._C.Generator at 0x7f6ec2e04670>"
      ]
     },
     "execution_count": 2,
     "metadata": {},
     "output_type": "execute_result"
    }
   ],
   "source": [
    "import torch\n",
    "from torch import nn\n",
    "import torch.optim as optim\n",
    "\n",
    "import math\n",
    "import matplotlib.pyplot as plt\n",
    "import torchvision\n",
    "import torchvision.transforms as transforms\n",
    "from torchvision.utils import save_image\n",
    "\n",
    "import os\n",
    "torch.manual_seed(111)"
   ]
  },
  {
   "cell_type": "code",
   "execution_count": 3,
   "id": "405a38b3-c996-417a-8e52-4669edce4dee",
   "metadata": {},
   "outputs": [
    {
     "data": {
      "text/plain": [
       "<torch._C.Generator at 0x7f6ec2e04670>"
      ]
     },
     "execution_count": 3,
     "metadata": {},
     "output_type": "execute_result"
    }
   ],
   "source": [
    "# Our GAN script will have three components: \n",
    "# a Generator network, \n",
    "# a Discriminator network, \n",
    "# and the GAN itself, which houses and trains the two networks. \n",
    "\n",
    "torch.manual_seed(111)\n",
    "\n",
    "# Our Generator and Discriminator classes inherit from PyTorch’s nn.Module class, \n",
    "# which is the base class for neural network modules."
   ]
  },
  {
   "cell_type": "code",
   "execution_count": 4,
   "id": "e618b492-be1f-4455-afbe-7c15ccf19668",
   "metadata": {},
   "outputs": [],
   "source": [
    "# download and use the MNIST datasets\n",
    "path = '/home/bogdan/Desktop/PyTorch/MNIST'"
   ]
  },
  {
   "cell_type": "code",
   "execution_count": 5,
   "id": "3f105163-bfca-4248-a2c5-1c8044d25e04",
   "metadata": {},
   "outputs": [],
   "source": [
    "device = \"\"\n",
    "if torch.cuda.is_available():\n",
    "    device = torch.device(\"cuda\")\n",
    "else:\n",
    "    device = torch.device(\"cpu\")"
   ]
  },
  {
   "cell_type": "code",
   "execution_count": 6,
   "id": "677b2719-4997-4c58-b5d9-2c70c44ec72a",
   "metadata": {},
   "outputs": [],
   "source": [
    "# Hyper-parameters\n",
    "latent_size = 64\n",
    "hidden_size = 256\n",
    "image_size = 784\n",
    "\n",
    "# short run\n",
    "# num_epochs = 200\n",
    "num_epochs = 20\n",
    "\n",
    "batch_size = 100\n",
    "sample_dir = 'samples'"
   ]
  },
  {
   "cell_type": "code",
   "execution_count": 7,
   "id": "9929a42a-7274-4d02-880e-83c5112bef1a",
   "metadata": {},
   "outputs": [],
   "source": [
    "# Preparing the Training Data\n",
    "\n",
    "# The MNIST dataset consists of 28 × 28 pixel grayscale images of handwritten digits from 0 to 9. \n",
    "# To use them with PyTorch, you’ll need to perform some conversions. \n",
    "# For that, you define transform, a function to be used when loading the data:"
   ]
  },
  {
   "cell_type": "code",
   "execution_count": 8,
   "id": "ddb701b0-b884-4bf0-9014-54ffc6d626ce",
   "metadata": {},
   "outputs": [],
   "source": [
    "# Define the transform\n",
    "transform = transforms.Compose([\n",
    "    transforms.ToTensor(),                # Convert images to PyTorch tensors\n",
    "    transforms.Normalize((0.5,), (0.5,))  # Normalize to mean 0.5 and std 0.5\n",
    "])"
   ]
  },
  {
   "cell_type": "code",
   "execution_count": 9,
   "id": "ef5c8cc3-a007-4848-9c4c-b8ceb192043b",
   "metadata": {},
   "outputs": [],
   "source": [
    "# The function has two parts:\n",
    "\n",
    "#    transforms.ToTensor() converts the data to a PyTorch tensor.\n",
    "#    transforms.Normalize() converts the range of the tensor coefficients.\n",
    "\n",
    "# The original coefficients given by transforms.ToTensor() range from 0 to 1, \n",
    "# and since the image backgrounds are black, most of the coefficients are equal to 0 \n",
    "# when they’re represented using this range.\n",
    "\n",
    "# The arguments of transforms.Normalize() are two tuples, (M₁, ..., Mₙ) and (S₁, ..., Sₙ), \n",
    "# with n representing the number of channels of the images. \n",
    "# Grayscale images such as those in MNIST dataset have only one channel, so the tuples have only one value.\n",
    "# Then, for each channel i of the image, transforms.Normalize() subtracts Mᵢ from the coefficients and \n",
    "# divides the result by Sᵢ."
   ]
  },
  {
   "cell_type": "code",
   "execution_count": 10,
   "id": "ca9cbec4-f7e0-49f5-bf3d-1f1a73128164",
   "metadata": {},
   "outputs": [],
   "source": [
    "# MNIST dataset\n",
    "mnist = torchvision.datasets.MNIST(root='/home/bogdan/Desktop/PyTorch/MNIST/',\n",
    "                                   train=True,\n",
    "                                   transform=transform,\n",
    "                                   download=True)"
   ]
  },
  {
   "cell_type": "code",
   "execution_count": 11,
   "id": "59743d99-3f9e-4bd5-a691-b9f561d269f2",
   "metadata": {},
   "outputs": [],
   "source": [
    "# Data loader\n",
    "data_loader = torch.utils.data.DataLoader(dataset=mnist,\n",
    "                                          batch_size=batch_size, \n",
    "                                          shuffle=True)"
   ]
  },
  {
   "cell_type": "code",
   "execution_count": 12,
   "id": "3eef128e-83e0-4edf-a32d-1a612e0c255f",
   "metadata": {},
   "outputs": [],
   "source": [
    "# Discriminator\n",
    "D = nn.Sequential(\n",
    "    nn.Linear(image_size, hidden_size),\n",
    "    nn.LeakyReLU(0.2),\n",
    "    nn.Linear(hidden_size, hidden_size),\n",
    "    nn.LeakyReLU(0.2),\n",
    "    nn.Linear(hidden_size, 1),\n",
    "    nn.Sigmoid())"
   ]
  },
  {
   "cell_type": "code",
   "execution_count": 13,
   "id": "77bc571a-b30b-44b3-8fed-acb0fce57ec2",
   "metadata": {},
   "outputs": [],
   "source": [
    "# Generator \n",
    "G = nn.Sequential(\n",
    "    nn.Linear(latent_size, hidden_size),\n",
    "    nn.ReLU(),\n",
    "    nn.Linear(hidden_size, hidden_size),\n",
    "    nn.ReLU(),\n",
    "    nn.Linear(hidden_size, image_size),\n",
    "    nn.Tanh())"
   ]
  },
  {
   "cell_type": "code",
   "execution_count": 14,
   "id": "2eb6a367-6a40-4f01-bd16-d6679b2e1f09",
   "metadata": {},
   "outputs": [],
   "source": [
    "# Device setting\n",
    "D = D.to(device)\n",
    "G = G.to(device)"
   ]
  },
  {
   "cell_type": "code",
   "execution_count": 15,
   "id": "48aff2a6-5502-4589-a2bb-a2dd96e907af",
   "metadata": {},
   "outputs": [],
   "source": [
    "# Binary cross entropy loss and optimizer\n",
    "criterion = nn.BCELoss()\n",
    "d_optimizer = torch.optim.Adam(D.parameters(), lr=0.0002)\n",
    "g_optimizer = torch.optim.Adam(G.parameters(), lr=0.0002)"
   ]
  },
  {
   "cell_type": "code",
   "execution_count": 16,
   "id": "d55d5e63-2014-49ba-99b1-0b4d98ab92ee",
   "metadata": {},
   "outputs": [],
   "source": [
    "def denorm(x):\n",
    "    out = (x + 1) / 2\n",
    "    return out.clamp(0, 1)"
   ]
  },
  {
   "cell_type": "code",
   "execution_count": 17,
   "id": "d141fae5-69ac-4905-adda-198100eb0918",
   "metadata": {},
   "outputs": [],
   "source": [
    "def reset_grad():\n",
    "    d_optimizer.zero_grad()\n",
    "    g_optimizer.zero_grad()"
   ]
  },
  {
   "cell_type": "code",
   "execution_count": 18,
   "id": "d263beb4-e3d3-442d-8c4f-10eb59642de0",
   "metadata": {},
   "outputs": [],
   "source": [
    "sample_dir = '/home/bogdan/Desktop/PyTorch/MNIST/samples'\n",
    "os.makedirs(sample_dir, exist_ok=True)"
   ]
  },
  {
   "cell_type": "code",
   "execution_count": 19,
   "id": "35ff31b2-dd7f-4cf6-acd4-6146a3462ff5",
   "metadata": {},
   "outputs": [
    {
     "name": "stdout",
     "output_type": "stream",
     "text": [
      "Epoch [0/20], Step [200/600], d_loss: 0.0397, g_loss: 4.3056, D(x): 0.99, D(G(z)): 0.03\n",
      "Epoch [0/20], Step [400/600], d_loss: 0.0438, g_loss: 5.1229, D(x): 1.00, D(G(z)): 0.04\n",
      "Epoch [0/20], Step [600/600], d_loss: 0.1165, g_loss: 4.6701, D(x): 0.96, D(G(z)): 0.07\n",
      "Epoch [1/20], Step [200/600], d_loss: 0.0870, g_loss: 4.6815, D(x): 0.97, D(G(z)): 0.05\n",
      "Epoch [1/20], Step [400/600], d_loss: 0.3032, g_loss: 3.5845, D(x): 0.84, D(G(z)): 0.05\n",
      "Epoch [1/20], Step [600/600], d_loss: 0.1396, g_loss: 4.8759, D(x): 0.96, D(G(z)): 0.08\n",
      "Epoch [2/20], Step [200/600], d_loss: 0.1397, g_loss: 4.5637, D(x): 0.94, D(G(z)): 0.04\n",
      "Epoch [2/20], Step [400/600], d_loss: 0.7120, g_loss: 2.7417, D(x): 0.86, D(G(z)): 0.33\n",
      "Epoch [2/20], Step [600/600], d_loss: 0.1232, g_loss: 4.8149, D(x): 0.97, D(G(z)): 0.07\n",
      "Epoch [3/20], Step [200/600], d_loss: 0.3055, g_loss: 3.7289, D(x): 0.93, D(G(z)): 0.13\n",
      "Epoch [3/20], Step [400/600], d_loss: 0.2622, g_loss: 3.5534, D(x): 0.96, D(G(z)): 0.16\n",
      "Epoch [3/20], Step [600/600], d_loss: 0.3085, g_loss: 3.2266, D(x): 0.96, D(G(z)): 0.20\n",
      "Epoch [4/20], Step [200/600], d_loss: 0.1608, g_loss: 4.5664, D(x): 0.97, D(G(z)): 0.10\n",
      "Epoch [4/20], Step [400/600], d_loss: 0.7093, g_loss: 2.8003, D(x): 0.90, D(G(z)): 0.37\n",
      "Epoch [4/20], Step [600/600], d_loss: 0.1618, g_loss: 3.5160, D(x): 0.92, D(G(z)): 0.03\n",
      "Epoch [5/20], Step [200/600], d_loss: 0.2925, g_loss: 3.5990, D(x): 0.89, D(G(z)): 0.09\n",
      "Epoch [5/20], Step [400/600], d_loss: 0.1287, g_loss: 4.3279, D(x): 0.96, D(G(z)): 0.04\n",
      "Epoch [5/20], Step [600/600], d_loss: 0.1851, g_loss: 4.3461, D(x): 0.95, D(G(z)): 0.07\n",
      "Epoch [6/20], Step [200/600], d_loss: 0.3870, g_loss: 3.8179, D(x): 0.94, D(G(z)): 0.19\n",
      "Epoch [6/20], Step [400/600], d_loss: 0.2445, g_loss: 5.0348, D(x): 0.92, D(G(z)): 0.03\n",
      "Epoch [6/20], Step [600/600], d_loss: 0.3363, g_loss: 4.0399, D(x): 0.92, D(G(z)): 0.13\n",
      "Epoch [7/20], Step [200/600], d_loss: 0.3567, g_loss: 4.1424, D(x): 0.88, D(G(z)): 0.05\n",
      "Epoch [7/20], Step [400/600], d_loss: 0.5387, g_loss: 3.4555, D(x): 0.85, D(G(z)): 0.12\n",
      "Epoch [7/20], Step [600/600], d_loss: 0.1281, g_loss: 6.3359, D(x): 0.95, D(G(z)): 0.04\n",
      "Epoch [8/20], Step [200/600], d_loss: 0.1404, g_loss: 3.8896, D(x): 0.95, D(G(z)): 0.06\n",
      "Epoch [8/20], Step [400/600], d_loss: 0.2249, g_loss: 3.9134, D(x): 0.93, D(G(z)): 0.07\n",
      "Epoch [8/20], Step [600/600], d_loss: 0.1626, g_loss: 4.5078, D(x): 0.95, D(G(z)): 0.07\n",
      "Epoch [9/20], Step [200/600], d_loss: 0.2362, g_loss: 4.8837, D(x): 0.97, D(G(z)): 0.09\n",
      "Epoch [9/20], Step [400/600], d_loss: 0.2666, g_loss: 3.7075, D(x): 0.97, D(G(z)): 0.13\n",
      "Epoch [9/20], Step [600/600], d_loss: 0.2188, g_loss: 4.9004, D(x): 0.93, D(G(z)): 0.06\n",
      "Epoch [10/20], Step [200/600], d_loss: 0.3861, g_loss: 4.3182, D(x): 0.95, D(G(z)): 0.16\n",
      "Epoch [10/20], Step [400/600], d_loss: 0.2751, g_loss: 4.5173, D(x): 0.91, D(G(z)): 0.08\n",
      "Epoch [10/20], Step [600/600], d_loss: 0.3253, g_loss: 4.7667, D(x): 0.91, D(G(z)): 0.03\n",
      "Epoch [11/20], Step [200/600], d_loss: 0.5155, g_loss: 4.3036, D(x): 0.87, D(G(z)): 0.09\n",
      "Epoch [11/20], Step [400/600], d_loss: 0.3458, g_loss: 3.8857, D(x): 0.95, D(G(z)): 0.20\n",
      "Epoch [11/20], Step [600/600], d_loss: 0.2529, g_loss: 4.5908, D(x): 0.91, D(G(z)): 0.02\n",
      "Epoch [12/20], Step [200/600], d_loss: 0.3381, g_loss: 4.2561, D(x): 0.91, D(G(z)): 0.10\n",
      "Epoch [12/20], Step [400/600], d_loss: 0.3264, g_loss: 2.7267, D(x): 0.88, D(G(z)): 0.03\n",
      "Epoch [12/20], Step [600/600], d_loss: 0.4249, g_loss: 5.2567, D(x): 0.95, D(G(z)): 0.18\n",
      "Epoch [13/20], Step [200/600], d_loss: 0.6004, g_loss: 2.9475, D(x): 0.94, D(G(z)): 0.29\n",
      "Epoch [13/20], Step [400/600], d_loss: 0.0629, g_loss: 5.6159, D(x): 0.98, D(G(z)): 0.03\n",
      "Epoch [13/20], Step [600/600], d_loss: 0.4872, g_loss: 3.2315, D(x): 0.86, D(G(z)): 0.04\n",
      "Epoch [14/20], Step [200/600], d_loss: 0.2507, g_loss: 3.7363, D(x): 0.91, D(G(z)): 0.07\n",
      "Epoch [14/20], Step [400/600], d_loss: 0.3479, g_loss: 3.1464, D(x): 0.91, D(G(z)): 0.13\n",
      "Epoch [14/20], Step [600/600], d_loss: 0.2764, g_loss: 4.4579, D(x): 0.97, D(G(z)): 0.16\n",
      "Epoch [15/20], Step [200/600], d_loss: 0.3127, g_loss: 2.3488, D(x): 0.91, D(G(z)): 0.13\n",
      "Epoch [15/20], Step [400/600], d_loss: 0.3538, g_loss: 4.1208, D(x): 0.96, D(G(z)): 0.22\n",
      "Epoch [15/20], Step [600/600], d_loss: 0.5441, g_loss: 3.7224, D(x): 0.85, D(G(z)): 0.08\n",
      "Epoch [16/20], Step [200/600], d_loss: 0.2711, g_loss: 4.7824, D(x): 0.90, D(G(z)): 0.09\n",
      "Epoch [16/20], Step [400/600], d_loss: 0.4599, g_loss: 2.7653, D(x): 0.86, D(G(z)): 0.15\n",
      "Epoch [16/20], Step [600/600], d_loss: 0.5961, g_loss: 3.4523, D(x): 0.83, D(G(z)): 0.10\n",
      "Epoch [17/20], Step [200/600], d_loss: 0.3307, g_loss: 3.3903, D(x): 0.91, D(G(z)): 0.15\n",
      "Epoch [17/20], Step [400/600], d_loss: 0.2130, g_loss: 4.2648, D(x): 0.94, D(G(z)): 0.09\n",
      "Epoch [17/20], Step [600/600], d_loss: 0.1547, g_loss: 4.0366, D(x): 0.93, D(G(z)): 0.04\n",
      "Epoch [18/20], Step [200/600], d_loss: 0.3735, g_loss: 3.9129, D(x): 0.90, D(G(z)): 0.06\n",
      "Epoch [18/20], Step [400/600], d_loss: 0.3578, g_loss: 3.8267, D(x): 0.93, D(G(z)): 0.18\n",
      "Epoch [18/20], Step [600/600], d_loss: 0.3494, g_loss: 3.1820, D(x): 0.95, D(G(z)): 0.21\n",
      "Epoch [19/20], Step [200/600], d_loss: 0.2534, g_loss: 3.0620, D(x): 0.95, D(G(z)): 0.08\n",
      "Epoch [19/20], Step [400/600], d_loss: 0.1421, g_loss: 4.1734, D(x): 0.96, D(G(z)): 0.07\n",
      "Epoch [19/20], Step [600/600], d_loss: 0.2485, g_loss: 5.9453, D(x): 0.91, D(G(z)): 0.03\n"
     ]
    }
   ],
   "source": [
    "# Start training\n",
    "total_step = len(data_loader)\n",
    "for epoch in range(num_epochs):\n",
    "    for i, (images, _) in enumerate(data_loader):\n",
    "        images = images.reshape(batch_size, -1).to(device)\n",
    "        \n",
    "        # Create the labels which are later used as input for the BCE loss\n",
    "        real_labels = torch.ones(batch_size, 1).to(device)\n",
    "        fake_labels = torch.zeros(batch_size, 1).to(device)\n",
    "\n",
    "        # ================================================================== #\n",
    "        #                      Train the discriminator                       #\n",
    "        # ================================================================== #\n",
    "\n",
    "        # Compute BCE_Loss using real images where BCE_Loss(x, y): - y * log(D(x)) - (1-y) * log(1 - D(x))\n",
    "        # Second term of the loss is always zero since real_labels == 1\n",
    "        outputs = D(images)\n",
    "        d_loss_real = criterion(outputs, real_labels)\n",
    "        real_score = outputs\n",
    "        \n",
    "        # Compute BCELoss using fake images\n",
    "        # First term of the loss is always zero since fake_labels == 0\n",
    "        z = torch.randn(batch_size, latent_size).to(device)\n",
    "        fake_images = G(z)\n",
    "        outputs = D(fake_images)\n",
    "        d_loss_fake = criterion(outputs, fake_labels)\n",
    "        fake_score = outputs\n",
    "        \n",
    "        # Backprop and optimize\n",
    "        d_loss = d_loss_real + d_loss_fake\n",
    "        reset_grad()\n",
    "        d_loss.backward()\n",
    "        d_optimizer.step()\n",
    "        \n",
    "        # ================================================================== #\n",
    "        #                        Train the generator                         #\n",
    "        # ================================================================== #\n",
    "\n",
    "        # Compute loss with fake images\n",
    "        z = torch.randn(batch_size, latent_size).to(device)\n",
    "        fake_images = G(z)\n",
    "        outputs = D(fake_images)\n",
    "        \n",
    "        # We train G to maximize log(D(G(z)) instead of minimizing log(1-D(G(z)))\n",
    "        # For the reason, see the last paragraph of section 3. https://arxiv.org/pdf/1406.2661.pdf\n",
    "        g_loss = criterion(outputs, real_labels)\n",
    "        \n",
    "        # Backprop and optimize\n",
    "        reset_grad()\n",
    "        g_loss.backward()\n",
    "        g_optimizer.step()\n",
    "        \n",
    "        if (i+1) % 200 == 0:\n",
    "            print('Epoch [{}/{}], Step [{}/{}], d_loss: {:.4f}, g_loss: {:.4f}, D(x): {:.2f}, D(G(z)): {:.2f}' \n",
    "                  .format(epoch, num_epochs, i+1, total_step, d_loss.item(), g_loss.item(), \n",
    "                          real_score.mean().item(), fake_score.mean().item()))\n",
    "    \n",
    "    # Save real images\n",
    "    if (epoch+1) == 1:\n",
    "        images = images.reshape(images.size(0), 1, 28, 28)\n",
    "        save_image(denorm(images), os.path.join(sample_dir, 'real_images.png'))\n",
    "    \n",
    "    # Save sampled images\n",
    "    fake_images = fake_images.reshape(fake_images.size(0), 1, 28, 28)\n",
    "    save_image(denorm(fake_images), os.path.join(sample_dir, 'fake_images-{}.png'.format(epoch+1)))\n"
   ]
  },
  {
   "cell_type": "code",
   "execution_count": 21,
   "id": "ed96cd98-a7c0-45fd-9447-8afacdb372ed",
   "metadata": {},
   "outputs": [],
   "source": [
    "# Save the model checkpoints \n",
    "torch.save(G.state_dict(), 'G.ckpt')\n",
    "torch.save(D.state_dict(), 'D.ckpt')"
   ]
  }
 ],
 "metadata": {
  "kernelspec": {
   "display_name": "Python 3 (ipykernel)",
   "language": "python",
   "name": "python3"
  },
  "language_info": {
   "codemirror_mode": {
    "name": "ipython",
    "version": 3
   },
   "file_extension": ".py",
   "mimetype": "text/x-python",
   "name": "python",
   "nbconvert_exporter": "python",
   "pygments_lexer": "ipython3",
   "version": "3.9.20"
  }
 },
 "nbformat": 4,
 "nbformat_minor": 5
}
